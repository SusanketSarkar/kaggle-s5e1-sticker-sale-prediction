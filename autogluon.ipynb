{
 "cells": [
  {
   "cell_type": "code",
   "execution_count": 7,
   "metadata": {},
   "outputs": [],
   "source": [
    "import pandas as pd\n",
    "import numpy as np\n",
    "# Load the data\n",
    "df = pd.read_csv('data/train.csv')\n",
    "\n",
    "# Remove ID column if it exists\n",
    "if 'id' in df.columns:\n",
    "    df = df.drop('id', axis=1)\n",
    "\n",
    "# Convert date column to datetime and extract d,m,y\n",
    "if 'date' in df.columns:\n",
    "    df['date'] = pd.to_datetime(df['date'])\n",
    "    df['day'] = df['date'].dt.day\n",
    "    df['month'] = df['date'].dt.month \n",
    "    df['year'] = df['date'].dt.year\n",
    "\n",
    "df.dropna(inplace=True)\n"
   ]
  },
  {
   "cell_type": "code",
   "execution_count": 8,
   "metadata": {},
   "outputs": [
    {
     "name": "stderr",
     "output_type": "stream",
     "text": [
      "Warning: path already exists! This predictor may overwrite an existing predictor! path=\"agModels\"\n",
      "Verbosity: 2 (Standard Logging)\n",
      "=================== System Info ===================\n",
      "AutoGluon Version:  1.2\n",
      "Python Version:     3.12.3\n",
      "Operating System:   Darwin\n",
      "Platform Machine:   arm64\n",
      "Platform Version:   Darwin Kernel Version 23.2.0: Wed Nov 15 21:59:33 PST 2023; root:xnu-10002.61.3~2/RELEASE_ARM64_T8112\n",
      "CPU Count:          8\n",
      "Memory Avail:       1.35 GB / 8.00 GB (16.8%)\n",
      "Disk Space Avail:   124.31 GB / 228.27 GB (54.5%)\n",
      "===================================================\n",
      "Presets specified: ['best_quality']\n",
      "Setting dynamic_stacking from 'auto' to True. Reason: Enable dynamic_stacking when use_bag_holdout is disabled. (use_bag_holdout=False)\n",
      "Stack configuration (auto_stack=True): num_stack_levels=1, num_bag_folds=8, num_bag_sets=1\n",
      "DyStack is enabled (dynamic_stacking=True). AutoGluon will try to determine whether the input data is affected by stacked overfitting and enable or disable stacking as a consequence.\n",
      "\tThis is used to identify the optimal `num_stack_levels` value. Copies of AutoGluon will be fit on subsets of the data. Then holdout validation data is used to detect stacked overfitting.\n",
      "\tRunning DyStack for up to 900s of the 3600s of remaining time (25%).\n",
      "\t\tContext path: \"/Users/susanketsarkar/Desktop/Code/kaggle-s5e1-sticker-sale-prediction/agModels/ds_sub_fit/sub_fit_ho\"\n"
     ]
    }
   ],
   "source": [
    "from autogluon.tabular import TabularPredictor\n",
    "\n",
    "# Prepare train/test split based on time\n",
    "train_data = df[df['year'] <= 2015].copy()\n",
    "test_data = df[df['year'] > 2015].copy()\n",
    "\n",
    "# Convert date to string (AutoGluon requirement)\n",
    "train_data['date'] = train_data['date'].astype(str)\n",
    "test_data['date'] = test_data['date'].astype(str)\n",
    "\n",
    "# Initialize and train AutoGluon predictor\n",
    "predictor = TabularPredictor(\n",
    "    label='num_sold',\n",
    "    eval_metric='root_mean_squared_error',\n",
    "    path='agModels'  # Directory to store models\n",
    ").fit(\n",
    "    train_data,\n",
    "    time_limit=3600,  # Time limit in seconds\n",
    "    presets='best_quality',  # Or 'high_quality' for faster training\n",
    "    excluded_model_types=['KNN']  # Optional: exclude specific models\n",
    ")\n",
    "\n",
    "# Evaluate all models\n",
    "predictor.leaderboard(test_data, silent=True)\n",
    "\n",
    "# Get feature importance\n",
    "predictor.feature_importance(test_data)\n",
    "\n",
    "# Make predictions\n",
    "predictions = predictor.predict(test_data)\n",
    "\n",
    "# Calculate metrics\n",
    "from sklearn.metrics import mean_squared_error, mean_absolute_error, r2_score\n",
    "print(\"\\nTest Set Metrics:\")\n",
    "print(f\"RMSE: {np.sqrt(mean_squared_error(test_data['num_sold'], predictions)):.2f}\")\n",
    "print(f\"MAE: {mean_absolute_error(test_data['num_sold'], predictions):.2f}\")\n",
    "print(f\"R2: {r2_score(test_data['num_sold'], predictions):.2f}\")"
   ]
  },
  {
   "cell_type": "markdown",
   "metadata": {},
   "source": []
  }
 ],
 "metadata": {
  "kernelspec": {
   "display_name": "Python 3",
   "language": "python",
   "name": "python3"
  },
  "language_info": {
   "codemirror_mode": {
    "name": "ipython",
    "version": 3
   },
   "file_extension": ".py",
   "mimetype": "text/x-python",
   "name": "python",
   "nbconvert_exporter": "python",
   "pygments_lexer": "ipython3",
   "version": "3.12.3"
  }
 },
 "nbformat": 4,
 "nbformat_minor": 2
}
